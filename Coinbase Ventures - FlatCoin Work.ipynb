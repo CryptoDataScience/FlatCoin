{
 "cells": [
  {
   "cell_type": "code",
   "execution_count": 1,
   "id": "fb7f48e1",
   "metadata": {},
   "outputs": [
    {
     "name": "stdout",
     "output_type": "stream",
     "text": [
      "        Date  Apple_Price  Orange_Price  Banana_Price\n",
      "0 2024-01-01     1.000000      1.000000      1.000000\n",
      "1 2024-01-02     1.055473      1.036774      1.072811\n",
      "2 2024-01-03     1.115016      1.078999      1.134943\n",
      "3 2024-01-04     1.159149      1.132265      1.180590\n",
      "4 2024-01-05     1.198899      1.181403      1.235064\n"
     ]
    }
   ],
   "source": [
    "import pandas as pd\n",
    "import numpy as np\n",
    "\n",
    "# Step 1: Create the initial dataset with dates starting from January 1, 2024\n",
    "dates = pd.date_range(start='2024-01-01', periods=60)\n",
    "df = pd.DataFrame({'Date': dates})\n",
    "\n",
    "# Initialize the fruit prices on the first day\n",
    "initial_price = 1.00\n",
    "df['Apple_Price'] = initial_price\n",
    "df['Orange_Price'] = initial_price\n",
    "df['Banana_Price'] = initial_price\n",
    "\n",
    "# Step 2 & 3: For each day after day 1, update the prices for each fruit\n",
    "for i in range(1, len(df)):\n",
    "    # Generating random price changes for each fruit\n",
    "    apple_change = np.random.normal(loc=0.05, scale=0.01)\n",
    "    orange_change = np.random.normal(loc=0.05, scale=0.01)\n",
    "    banana_change = np.random.normal(loc=0.05, scale=0.01)\n",
    "    \n",
    "    # Update the prices based on the previous day's price and the random change\n",
    "    df.loc[i, 'Apple_Price'] = df.loc[i-1, 'Apple_Price'] + apple_change\n",
    "    df.loc[i, 'Orange_Price'] = df.loc[i-1, 'Orange_Price'] + orange_change\n",
    "    df.loc[i, 'Banana_Price'] = df.loc[i-1, 'Banana_Price'] + banana_change\n",
    "\n",
    "# Ensuring no negative prices\n",
    "df[['Apple_Price', 'Orange_Price', 'Banana_Price']] = df[['Apple_Price', 'Orange_Price', 'Banana_Price']].clip(lower=0)\n",
    "\n",
    "print(df.head())  # Print the first few rows to check"
   ]
  },
  {
   "cell_type": "code",
   "execution_count": 2,
   "id": "3b89904d",
   "metadata": {},
   "outputs": [
    {
     "name": "stdout",
     "output_type": "stream",
     "text": [
      "Optimal allocation:\n",
      "Apples: 26.44%\n",
      "Oranges: 73.56%\n",
      "Bananas: 0.00%\n"
     ]
    }
   ],
   "source": [
    "import pandas as pd\n",
    "import numpy as np\n",
    "from scipy.optimize import minimize\n",
    "\n",
    "# Assuming `df` is your DataFrame from the previous code snippet with the price data for apples, oranges, and bananas.\n",
    "\n",
    "# Step 1: Calculate daily returns for each fruit\n",
    "returns = df[['Apple_Price', 'Orange_Price', 'Banana_Price']].pct_change().dropna()\n",
    "\n",
    "# Step 2: Calculate mean return and standard deviation of daily returns\n",
    "mean_returns = returns.mean()\n",
    "std_devs = returns.std()\n",
    "\n",
    "# Simplified Sharpe Ratio calculation (without risk-free rate)\n",
    "def sharpe_ratio(weights, mean_returns, std_devs):\n",
    "    portfolio_return = np.sum(mean_returns * weights)\n",
    "    portfolio_std = np.sqrt(np.dot(weights.T, np.dot(returns.cov(), weights)))\n",
    "    return -portfolio_return / portfolio_std  # Negative because we want to maximize this in minimization function\n",
    "\n",
    "# Constraint: Sum of weights = 1 (100% of the portfolio)\n",
    "constraints = ({'type': 'eq', 'fun': lambda weights: np.sum(weights) - 1})\n",
    "\n",
    "# Boundaries: Each weight can be between 0 and 1 (can't hold a negative amount of fruit)\n",
    "bounds = tuple((0, 1) for _ in range(returns.shape[1]))\n",
    "\n",
    "# Initial guess (even distribution)\n",
    "init_guess = [1./returns.shape[1] for _ in range(returns.shape[1])]\n",
    "\n",
    "# Optimization\n",
    "optimal = minimize(sharpe_ratio, init_guess, args=(mean_returns, std_devs), method='SLSQP', bounds=bounds, constraints=constraints)\n",
    "\n",
    "# Optimal allocation\n",
    "optimal_allocation = optimal.x\n",
    "\n",
    "print(\"Optimal allocation:\")\n",
    "print(f\"Apples: {optimal_allocation[0]*100:.2f}%\")\n",
    "print(f\"Oranges: {optimal_allocation[1]*100:.2f}%\")\n",
    "print(f\"Bananas: {optimal_allocation[2]*100:.2f}%\")"
   ]
  },
  {
   "cell_type": "code",
   "execution_count": 4,
   "id": "d8fe8bd5",
   "metadata": {},
   "outputs": [
    {
     "name": "stdout",
     "output_type": "stream",
     "text": [
      "         Date  Apple_Price  Orange_Price  Banana_Price\n",
      "93 2024-04-03     5.631383      5.649344      5.683323\n",
      "94 2024-04-04     5.688772      5.702507      5.724974\n",
      "95 2024-04-05     5.756871      5.755801      5.790008\n",
      "96 2024-04-06     5.808338      5.815842      5.858520\n",
      "97 2024-04-07     5.876050      5.884249      5.910175\n",
      "98 2024-04-08     5.921468      5.941060      5.951476\n",
      "99 2024-04-09     5.960110      5.999712      5.998472\n",
      "   Apple_Alloc Orange_Alloc Banana_Alloc\n",
      "93    0.007821     0.531003     0.461176\n",
      "94    0.025028     0.534477     0.440495\n",
      "95    0.035462     0.521779      0.44276\n",
      "96    0.019682     0.522545     0.457773\n",
      "97    0.031759     0.530251      0.43799\n",
      "98    0.029418     0.544006     0.426576\n",
      "99    0.011153     0.560679     0.428169\n"
     ]
    }
   ],
   "source": [
    "import pandas as pd\n",
    "import numpy as np\n",
    "from scipy.optimize import minimize\n",
    "\n",
    "# Create the initial dataset with dates starting from January 1, 2024\n",
    "dates = pd.date_range(start='2024-01-01', periods=100)  # Adjusted to 100 days\n",
    "df = pd.DataFrame({'Date': dates})\n",
    "\n",
    "# Initialize the fruit prices on the first day\n",
    "initial_price = 1.00\n",
    "df['Apple_Price'] = initial_price\n",
    "df['Orange_Price'] = initial_price\n",
    "df['Banana_Price'] = initial_price\n",
    "\n",
    "# Initialize a DataFrame to hold the optimal allocation for each day\n",
    "allocation_df = pd.DataFrame(index=df.index, columns=['Apple_Alloc', 'Orange_Alloc', 'Banana_Alloc'])\n",
    "allocation_df.iloc[0] = [1/3, 1/3, 1/3]  # Start with an equal allocation\n",
    "\n",
    "# Function to calculate the negative Sharpe Ratio\n",
    "def neg_sharpe_ratio(weights, returns):\n",
    "    portfolio_return = np.dot(weights, returns.mean())\n",
    "    portfolio_std = np.sqrt(np.dot(weights.T, np.dot(returns.cov(), weights)))\n",
    "    return -portfolio_return / portfolio_std\n",
    "\n",
    "# Constraint: Sum of weights = 1\n",
    "constraints = ({'type': 'eq', 'fun': lambda weights: np.sum(weights) - 1})\n",
    "\n",
    "# Bounds for the weights\n",
    "bounds = ((0, 1), (0, 1), (0, 1))\n",
    "\n",
    "# Loop through each day, calculate prices\n",
    "for i in range(1, len(df)):\n",
    "    # Update prices\n",
    "    for fruit in ['Apple', 'Orange', 'Banana']:\n",
    "        price_change = np.random.normal(loc=0.05, scale=0.01)\n",
    "        df.loc[i, f'{fruit}_Price'] = df.loc[i-1, f'{fruit}_Price'] + price_change\n",
    "\n",
    "# Calculate daily returns\n",
    "returns = df[['Apple_Price', 'Orange_Price', 'Banana_Price']].pct_change().dropna()\n",
    "\n",
    "# Optimization only for the last 7 days\n",
    "for i in range(len(df) - 7, len(df)):\n",
    "    # Optimization to find new allocation\n",
    "    initial_guess = [1/3, 1/3, 1/3]  # Start with equal allocation for simplicity\n",
    "    opt_result = minimize(neg_sharpe_ratio, initial_guess, args=(returns[:i],), method='SLSQP', bounds=bounds, constraints=constraints)\n",
    "    \n",
    "    # Store the new optimal allocation\n",
    "    allocation_df.iloc[i] = opt_result.x\n",
    "\n",
    "# Ensuring no negative prices\n",
    "df[['Apple_Price', 'Orange_Price', 'Banana_Price']] = df[['Apple_Price', 'Orange_Price', 'Banana_Price']].clip(lower=0)\n",
    "\n",
    "# Show the head of the price DataFrame and the allocation DataFrame for the last 7 days\n",
    "print(df.tail(7))\n",
    "print(allocation_df.tail(7))"
   ]
  },
  {
   "cell_type": "code",
   "execution_count": 5,
   "id": "f9c157a2",
   "metadata": {},
   "outputs": [
    {
     "name": "stdout",
     "output_type": "stream",
     "text": [
      "        Date  Apple_Price  Orange_Price  Banana_Price\n",
      "0 2024-01-01     1.000000      1.000000      1.000000\n",
      "1 2024-01-02     1.059320      1.044703      1.060973\n",
      "2 2024-01-03     1.113319      1.090291      1.107298\n",
      "3 2024-01-04     1.165488      1.153110      1.152350\n",
      "4 2024-01-05     1.215365      1.193460      1.199160\n",
      "5 2024-01-06     1.273206      1.236952      1.247734\n",
      "6 2024-01-07     1.316633      1.287185      1.289841\n"
     ]
    }
   ],
   "source": [
    "print(df.head(7))"
   ]
  },
  {
   "cell_type": "code",
   "execution_count": null,
   "id": "a6beaf36",
   "metadata": {},
   "outputs": [],
   "source": [
    "import yfinance as yf\n",
    "\n",
    "ticker = \"AAPL\"\n",
    "data = yf.download(ticker, start=\"2020-01-01\", end=\"2020-12-31\")\n",
    "print(data)"
   ]
  },
  {
   "cell_type": "code",
   "execution_count": null,
   "id": "05183e2e",
   "metadata": {},
   "outputs": [],
   "source": [
    "from alpha_vantage.timeseries import TimeSeries\n",
    "\n",
    "ts = TimeSeries(key='YOUR_API_KEY', output_format='pandas')\n",
    "data, meta_data = ts.get_daily(symbol='MSFT', outputsize='full')\n",
    "print(data)"
   ]
  },
  {
   "cell_type": "code",
   "execution_count": null,
   "id": "a596b0e4",
   "metadata": {},
   "outputs": [],
   "source": [
    "import quandl\n",
    "\n",
    "quandl.ApiConfig.api_key = \"YOUR_API_KEY\"\n",
    "data = quandl.get(\"WIKI/AAPL\", start_date=\"2020-01-01\", end_date=\"2020-12-31\")\n",
    "print(data)"
   ]
  },
  {
   "cell_type": "code",
   "execution_count": null,
   "id": "c6ca963e",
   "metadata": {},
   "outputs": [],
   "source": [
    "import requests\n",
    "\n",
    "url = \"https://cloud.iexapis.com/stable/stock/aapl/chart/1y?token=YOUR_API_TOKEN\"\n",
    "response = requests.get(url)\n",
    "data = response.json()\n",
    "print(data)"
   ]
  }
 ],
 "metadata": {
  "kernelspec": {
   "display_name": "Python [conda env:basecopy]",
   "language": "python",
   "name": "conda-env-basecopy-py"
  },
  "language_info": {
   "codemirror_mode": {
    "name": "ipython",
    "version": 3
   },
   "file_extension": ".py",
   "mimetype": "text/x-python",
   "name": "python",
   "nbconvert_exporter": "python",
   "pygments_lexer": "ipython3",
   "version": "3.8.8"
  }
 },
 "nbformat": 4,
 "nbformat_minor": 5
}
